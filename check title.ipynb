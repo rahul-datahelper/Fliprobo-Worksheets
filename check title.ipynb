{
 "cells": [
  {
   "cell_type": "code",
   "execution_count": 1,
   "metadata": {},
   "outputs": [],
   "source": [
    "import requests\n",
    "from requests import get\n",
    "from bs4 import BeautifulSoup"
   ]
  },
  {
   "cell_type": "code",
   "execution_count": 2,
   "metadata": {},
   "outputs": [],
   "source": [
    "def check_title(url):\n",
    "    response = requests.get(url)\n",
    "    soup = BeautifulSoup(response.content)\n",
    "    webtitle = soup.find('title')\n",
    "    if webtitle is None:\n",
    "        print('Title not present')\n",
    "    else:\n",
    "        title = webtitle.text\n",
    "        print('Title present for {}'.format(url))\n",
    "        print()\n",
    "        print('Title is =>',title)"
   ]
  },
  {
   "cell_type": "code",
   "execution_count": 3,
   "metadata": {},
   "outputs": [
    {
     "name": "stdout",
     "output_type": "stream",
     "text": [
      "Title present for https://www.uefa.com/uefachampionsleague/\n",
      "\n",
      "Title is => UEFA Champions League | UEFA.com\n"
     ]
    }
   ],
   "source": [
    "url = \"https://www.uefa.com/uefachampionsleague/\"\n",
    "check_title(url)"
   ]
  }
 ],
 "metadata": {
  "kernelspec": {
   "display_name": "Python 3",
   "language": "python",
   "name": "python3"
  },
  "language_info": {
   "codemirror_mode": {
    "name": "ipython",
    "version": 3
   },
   "file_extension": ".py",
   "mimetype": "text/x-python",
   "name": "python",
   "nbconvert_exporter": "python",
   "pygments_lexer": "ipython3",
   "version": "3.7.7"
  }
 },
 "nbformat": 4,
 "nbformat_minor": 4
}
