{
 "cells": [
  {
   "cell_type": "markdown",
   "metadata": {},
   "source": [
    "# Python - WORKSHEET 5\n",
    "## Solutions\n",
    "\n",
    "1. (C) +\n",
    "2. (D) i-False, ii-True\n",
    "3. (B) [“ABC”,” RAHUL”,” NITIN”]\n",
    "4. (D) [2,4,6]\n",
    "5. (C) [6] \n",
    "6. (D) None of the above\n",
    "7. (B) error\n",
    "8. (C) a[1][1]\n",
    "9. (D) None of the above\n",
    "\n",
    "10.(A) sets are one-dimensional data structures\n",
    "B) no two elements of a set can be same\n",
    "\n",
    " \n",
    "11.)\n",
    "* List can be 2-D whereas a set can't.\n",
    "* As list are ordered (IE. have serial number) list are comparatively slow to execute whereas sets are fast.\n"
   ]
  },
  {
   "cell_type": "markdown",
   "metadata": {},
   "source": [
    "#### 12. write a python program to square the elements of a list by using list comprehension."
   ]
  },
  {
   "cell_type": "code",
   "execution_count": 1,
   "metadata": {},
   "outputs": [
    {
     "name": "stdout",
     "output_type": "stream",
     "text": [
      "Enter the list items : \n",
      "4 45 2 1\n",
      "[16, 2025, 4, 1]\n"
     ]
    }
   ],
   "source": [
    "numbers = [int(item) for item in input(\"Enter the list items : \\n\").split()] \n",
    "squared_numbers = [number ** 2 for number in numbers]\n",
    "\n",
    "print(squared_numbers)"
   ]
  },
  {
   "cell_type": "markdown",
   "metadata": {},
   "source": [
    "#### 13. Write a pyhton program to drop duplicate elements from a list of numbers.\n"
   ]
  },
  {
   "cell_type": "code",
   "execution_count": 2,
   "metadata": {},
   "outputs": [
    {
     "name": "stdout",
     "output_type": "stream",
     "text": [
      "Enter the list items : \n",
      "2 22 22 4 2\n",
      "{2, 4, 22}\n"
     ]
    }
   ],
   "source": [
    "numbers = [int(item) for item in input(\"Enter the list items : \\n\").split()] \n",
    "list_unique = set(numbers)\n",
    "print(list_unique) "
   ]
  },
  {
   "cell_type": "markdown",
   "metadata": {},
   "source": [
    "#### 14. Take two sets of numbers and try implementing the set operations - intersection, union, difference and symmetric_difference between them"
   ]
  },
  {
   "cell_type": "code",
   "execution_count": 3,
   "metadata": {},
   "outputs": [
    {
     "name": "stdout",
     "output_type": "stream",
     "text": [
      "Enter the set items : \n",
      "2 25 3 4 55 55 4\n",
      "Enter the set items : \n",
      "2 22 4 4 55 6\n",
      "\n",
      "Intersection of the sets are:  {2, 4, 55}\n",
      "\n",
      "Union of the sets are:  {2, 3, 4, 6, 22, 55, 25}\n",
      "\n",
      "Difference of the sets are:  {25, 3}\n",
      "\n",
      "Symmetric_difference of the sets are:  {3, 6, 22, 25}\n"
     ]
    }
   ],
   "source": [
    "set_1 = {int(item) for item in input(\"Enter the set items : \\n\").split()} \n",
    "set_2 = {int(item) for item in input(\"Enter the set items : \\n\").split()} \n",
    "# Intersection\n",
    "print(\"\\nIntersection of the sets are: \",set_1.intersection(set_2))\n",
    "\n",
    "# Union\n",
    "print(\"\\nUnion of the sets are: \",set_1.union(set_2))\n",
    "\n",
    "# Difference\n",
    "print(\"\\nDifference of the sets are: \",set_1.difference(set_2))\n",
    "\n",
    "# Symmetric_difference\n",
    "print(\"\\nSymmetric_difference of the sets are: \",set_1.symmetric_difference(set_2))\n"
   ]
  },
  {
   "cell_type": "markdown",
   "metadata": {},
   "source": [
    "#### 15. Write a python program to add the elements of a set\n",
    "\n"
   ]
  },
  {
   "cell_type": "code",
   "execution_count": 4,
   "metadata": {},
   "outputs": [
    {
     "name": "stdout",
     "output_type": "stream",
     "text": [
      "Enter the set items : \n",
      "1 4 10 25\n",
      "Sum of elements of a set is \n",
      "40\n"
     ]
    }
   ],
   "source": [
    "t=0\n",
    "set_1 = {int(item) for item in input(\"Enter the set items : \\n\").split()} \n",
    "for i in set_1:\n",
    "      t=t+i\n",
    "print(f\"Sum of elements of a set is \\n{t}\")"
   ]
  }
 ],
 "metadata": {
  "kernelspec": {
   "display_name": "Python 3",
   "language": "python",
   "name": "python3"
  },
  "language_info": {
   "codemirror_mode": {
    "name": "ipython",
    "version": 3
   },
   "file_extension": ".py",
   "mimetype": "text/x-python",
   "name": "python",
   "nbconvert_exporter": "python",
   "pygments_lexer": "ipython3",
   "version": "3.7.3"
  }
 },
 "nbformat": 4,
 "nbformat_minor": 4
}
