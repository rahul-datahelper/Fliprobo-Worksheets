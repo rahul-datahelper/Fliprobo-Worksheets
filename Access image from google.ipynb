{
 "cells": [
  {
   "cell_type": "markdown",
   "metadata": {},
   "source": [
    "python program to access the search bar and search button on images.google.com."
   ]
  },
  {
   "cell_type": "code",
   "execution_count": 6,
   "metadata": {},
   "outputs": [],
   "source": [
    "import requests\n",
    "from requests import get\n",
    "from selenium import webdriver\n",
    "from bs4 import BeautifulSoup"
   ]
  },
  {
   "cell_type": "code",
   "execution_count": 3,
   "metadata": {},
   "outputs": [],
   "source": [
    "#Defining google image URl\n",
    "url = \"https://images.google.com/\"\n",
    "driverpath = \"C:\\Program Files (x86)\\Google\\Chrome\\Application\\chromedriver.exe\""
   ]
  },
  {
   "cell_type": "code",
   "execution_count": 5,
   "metadata": {},
   "outputs": [],
   "source": [
    "#Initializing webdriver with driver variable\n",
    "driver = webdriver.Chrome(driverpath)\n",
    "driver.get(url)   #getting url\n",
    "content = driver.page_source #fetching content of web page\n",
    "soup = BeautifulSoup(content, \"html.parser\") #parsing web page data using html parser\n",
    "\n",
    "searchbox = driver.find_elements_by_xpath(\"//input[@class='gLFyf gsfi']\")[0]\n",
    "\n",
    "searchbox.send_keys(\"Andrew NG\")\n",
    "\n",
    "searchbutton = driver.find_elements_by_xpath(\"//button[@class='Tg7LZd']\")[0]\n",
    "\n",
    "searchbutton.click()"
   ]
  }
 ],
 "metadata": {
  "kernelspec": {
   "display_name": "Python 3",
   "language": "python",
   "name": "python3"
  },
  "language_info": {
   "codemirror_mode": {
    "name": "ipython",
    "version": 3
   },
   "file_extension": ".py",
   "mimetype": "text/x-python",
   "name": "python",
   "nbconvert_exporter": "python",
   "pygments_lexer": "ipython3",
   "version": "3.7.7"
  }
 },
 "nbformat": 4,
 "nbformat_minor": 4
}
