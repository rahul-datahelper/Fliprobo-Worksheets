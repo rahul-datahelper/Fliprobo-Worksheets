{
 "cells": [
  {
   "cell_type": "markdown",
   "metadata": {},
   "source": [
    "# Python program to scrap 10 images of Rayban Sunglasses from flipkart website and save them in a directory."
   ]
  },
  {
   "cell_type": "code",
   "execution_count": 14,
   "metadata": {},
   "outputs": [],
   "source": [
    "from selenium import webdriver\n",
    "import os\n",
    "import time\n",
    "import shutil\n",
    "import requests"
   ]
  },
  {
   "cell_type": "code",
   "execution_count": 4,
   "metadata": {},
   "outputs": [],
   "source": [
    "driver = webdriver.Chrome(executable_path = \"C:\\Program Files (x86)\\Google\\Chrome\\Application\\chromedriver.exe\")\n",
    "my_page = driver.get('https://www.flipkart.com/search?q=rayban+glass+for+man&sid=26x&as=on&as-show=on&otracker=AS_QueryStore_OrganicAutoSuggest_1_6_na_na_na&otracker1=AS_QueryStore_OrganicAutoSuggest_1_6_na_na_na&as-pos=1&as-type=RECENT&suggestionId=rayban+glass+for+man%7CSunglasses&requestId=69541a02-d641-420e-b803-f360cd1cf6cc&as-searchtext=rayban')"
   ]
  },
  {
   "cell_type": "code",
   "execution_count": 5,
   "metadata": {},
   "outputs": [],
   "source": [
    "def make_directory(dirname):\n",
    "    current_path = os.getcwd()\n",
    "    path = os.path.join(current_path, dirname)\n",
    "    if not os.path.exists(path):\n",
    "        os.makedirs(path)\n",
    "make_directory(\"Rayban_Sunglasses_Folder\")"
   ]
  },
  {
   "cell_type": "code",
   "execution_count": 10,
   "metadata": {},
   "outputs": [
    {
     "name": "stdout",
     "output_type": "stream",
     "text": [
      "https://rukminim1.flixcart.com/image/329/395/kdga1zk0/sunglass/n/3/c/54-4414-stylish-guys-original-imafucwyvnjhxwz4.jpeg?q=50\n",
      "https://rukminim1.flixcart.com/image/329/395/jcgjo280/sunglass/f/z/j/0rb3025il020558-58-ray-ban-original-imaffh7kugyggnff.jpeg?q=50\n",
      "https://rukminim1.flixcart.com/image/329/395/k6ci8i80/sunglass/g/t/d/56-4287-rozdeal-original-imafjb6kzsdtdgnm.jpeg?q=50\n",
      "https://rukminim1.flixcart.com/image/329/395/juu4jgw0/sunglass/k/c/k/55-0rb35889146-155-ray-ban-original-imaffhqbqarmveff.jpeg?q=50\n",
      "https://rukminim1.flixcart.com/image/329/395/jj7givk0/sunglass/h/2/h/58-0rb3025i-ray-ban-original-imaexcmg93ybdxb9.jpeg?q=50\n",
      "https://rukminim1.flixcart.com/image/329/395/kbgu1e80/sunglass/8/y/t/all-hot-black-aviator-sunglasses-henry-richel-original-imafst9jyu9dvy8h.jpeg?q=50\n",
      "https://rukminim1.flixcart.com/image/329/395/sunglass/w/f/g/0rb3025112-4l58-ray-ban-58-original-imaeazzaxrxkmngk.jpeg?q=50\n",
      "https://rukminim1.flixcart.com/image/329/395/jcnovbk0/sunglass/y/x/r/0rb344700153-53-ray-ban-original-imaffh7kgzhfqpfs.jpeg?q=50\n",
      "https://rukminim1.flixcart.com/image/329/395/sunglass/d/c/9/3052i-60-w3180-ray-ban-m-original-imaem82yvgjh6zxk.jpeg?q=50\n",
      "https://rukminim1.flixcart.com/image/329/395/sunglass/u/g/7/0rb3342i004-58-ray-ban-63-original-imadswbuxzksdvmu.jpeg?q=50\n",
      "https://rukminim1.flixcart.com/image/329/395/k8ho0i80/sunglass/5/d/t/50-0rb4340-ray-ban-original-imafqhhcxtbpzwhw.jpeg?q=50\n",
      "https://rukminim1.flixcart.com/image/329/395/k8ho0i80/sunglass/k/m/k/62-0rb3025i001-5862-ray-ban-original-imafqhhcsshwqwzg.jpeg?q=50\n",
      "https://rukminim1.flixcart.com/image/329/395/kdoup3k0-0/sunglass/e/f/q/4413-54-stylish-guys-original-imafujzynvmvfecj.jpeg?q=50\n",
      "https://rukminim1.flixcart.com/image/329/395/kbdz5ow0/sunglass/w/l/j/free-size-3026-aviator-style-guru-original-imafsrffkfv9qhbt.jpeg?q=50\n",
      "https://rukminim1.flixcart.com/image/329/395/j20qv0w0/sunglass/n/r/2/56-0rb3381i00456-ray-ban-original-imaethyrf3hgwrxa.jpeg?q=50\n",
      "https://rukminim1.flixcart.com/image/329/395/k6mibgw0/sunglass/z/s/g/56-7600-rozdeal-original-imafja2f2vev7jgf.jpeg?q=50\n",
      "https://rukminim1.flixcart.com/image/329/395/kcgk1ow0/sunglass/7/l/g/54-4287-style-guru-original-imafth7zxgcavn5h.jpeg?q=50\n",
      "https://rukminim1.flixcart.com/image/329/395/jhjg13k0/sunglass/7/b/c/55-0rb3025i088-3f55-ray-ban-original-imaf5jazzjktdnx2.jpeg?q=50\n",
      "https://rukminim1.flixcart.com/image/329/395/k8ho0i80/sunglass/w/r/m/63-0rb3412i00163-ray-ban-original-imafqhhccwhxmetc.jpeg?q=50\n",
      "https://rukminim1.flixcart.com/image/329/395/k8ho0i80/sunglass/y/6/k/62-0rb3025i002-5862-ray-ban-original-imafqhhcktfeh2vp.jpeg?q=50\n",
      "https://rukminim1.flixcart.com/image/329/395/k8ho0i80/sunglass/x/c/y/58-0rb3025i004-7858-ray-ban-original-imafqhhcx9epaxvx.jpeg?q=50\n",
      "https://rukminim1.flixcart.com/image/329/395/j20qv0w0/sunglass/3/j/z/55-0rb3025032-3255-ray-ban-original-imaeth2rhyp9rydf.jpeg?q=50\n",
      "https://rukminim1.flixcart.com/image/329/395/juip0nk0/sunglass/z/p/f/54-0rb3547001-3m54-ray-ban-original-imaffmvvrhzwaz7j.jpeg?q=50\n",
      "https://rukminim1.flixcart.com/image/329/395/kcz4rrk0/sunglass/m/l/y/free-size-mens-wayfarer-sunglasses-free-size-rudra-collection-original-imaftzfhbvzz5kjg.jpeg?q=50\n",
      "https://rukminim1.flixcart.com/image/329/395/sunglass/h/t/c/0rb3025iw3276-ray-ban-58-original-imads6euukke2rt7.jpeg?q=50\n",
      "https://rukminim1.flixcart.com/image/329/395/sunglass/z/y/m/0rb3025i002-32-ray-ban-58-original-imadtjp2ggutksrz.jpeg?q=50\n",
      "https://rukminim1.flixcart.com/image/329/395/kekadu80-0/sunglass/s/t/f/0rb3025i002-3f58-58-ray-ban-original-imafv7epdvbx6ksu.jpeg?q=50\n",
      "https://rukminim1.flixcart.com/image/329/395/k8ho0i80/sunglass/s/a/j/61-0rb3334i00261-ray-ban-original-imafqhhcqjhm3tgg.jpeg?q=50\n",
      "https://rukminim1.flixcart.com/image/329/395/jza5uvk0/sunglass/z/s/e/12-3517-gb-fashion-sunglasses-original-imafjbxzyuh6ryhg.jpeg?q=50\n",
      "https://rukminim1.flixcart.com/image/329/395/jcp4b680/sunglass/k/h/r/0rb3025il174458-58-ray-ban-original-imaffmybvfbh4rmx.jpeg?q=50\n",
      "https://rukminim1.flixcart.com/image/329/395/jv6zi4w0/sunglass/m/n/h/0rb368991483158-58-ray-ban-original-imafg572vxghtbk6.jpeg?q=50\n",
      "https://rukminim1.flixcart.com/image/329/395/jcgjo280/sunglass/7/v/x/0rb3025i001-5758-58-ray-ban-original-imaffh7kbchnjefk.jpeg?q=50\n",
      "https://rukminim1.flixcart.com/image/329/395/jp1i93k0/sunglass/m/n/z/0rb3098iw096200-57-ray-ban-original-imafb6zswumjww8s.jpeg?q=50\n",
      "https://rukminim1.flixcart.com/image/329/395/k65d18w0/sunglass/6/z/y/56-3517-rozdeal-original-imafjmy2qsdwavze.jpeg?q=50\n",
      "https://rukminim1.flixcart.com/image/329/395/k8ho0i80/sunglass/r/r/4/58-0rb3025i112-8558-ray-ban-original-imafqhhcjhmczgrz.jpeg?q=50\n",
      "https://rukminim1.flixcart.com/image/329/395/juu4jgw0/sunglass/t/u/u/52-0rb21851249aa52-ray-ban-original-imaffhqatd6sdbw7.jpeg?q=50\n",
      "https://rukminim1.flixcart.com/image/329/395/k8ho0i80/sunglass/8/9/w/55-0rb3025i006555-ray-ban-original-imafqhhcggzwfyqk.jpeg?q=50\n",
      "https://rukminim1.flixcart.com/image/329/395/sunglass/n/e/c/0rb3025i002-37-ray-ban-58-original-imadsj4azfqy9fcp.jpeg?q=50\n",
      "https://rukminim1.flixcart.com/image/329/395/j20qv0w0/sunglass/r/4/h/57-0rb3335i00257-ray-ban-original-imaeth2gh7vhaxyk.jpeg?q=50\n",
      "https://rukminim1.flixcart.com/image/329/395/k8ho0i80/sunglass/q/r/q/55-0rb3025i003-3f55-ray-ban-original-imafqhhchzh6nwqm.jpeg?q=50\n"
     ]
    }
   ],
   "source": [
    "urls = []\n",
    "time.sleep(5)\n",
    "images = driver.find_elements_by_xpath(\"//img[@class='_3togXc']\")\n",
    "for image in images:\n",
    "    source = image.get_attribute('src')\n",
    "    urls.append(source)\n",
    "    print(source)"
   ]
  },
  {
   "cell_type": "code",
   "execution_count": 13,
   "metadata": {},
   "outputs": [
    {
     "name": "stdout",
     "output_type": "stream",
     "text": [
      "Downloading  1 of 10 images and saving\n",
      "Downloading  2 of 10 images and saving\n",
      "Downloading  3 of 10 images and saving\n",
      "Downloading  4 of 10 images and saving\n",
      "Downloading  5 of 10 images and saving\n",
      "Downloading  6 of 10 images and saving\n",
      "Downloading  7 of 10 images and saving\n",
      "Downloading  8 of 10 images and saving\n",
      "Downloading  9 of 10 images and saving\n",
      "Downloading  10 of 10 images and saving\n"
     ]
    }
   ],
   "source": [
    "x=0\n",
    "while(x < 10):\n",
    "    print(f'Downloading  {x+1} of {10} images and saving')\n",
    "    response = requests.get(urls[x])\n",
    "    with open('Rayban_Sunglasses_Folder/glasses.{0}.jpeg'.format(x+1), \"wb\") as file:\n",
    "        file.write(response.content)\n",
    "    x=x+1"
   ]
  }
 ],
 "metadata": {
  "kernelspec": {
   "display_name": "Python 3",
   "language": "python",
   "name": "python3"
  },
  "language_info": {
   "codemirror_mode": {
    "name": "ipython",
    "version": 3
   },
   "file_extension": ".py",
   "mimetype": "text/x-python",
   "name": "python",
   "nbconvert_exporter": "python",
   "pygments_lexer": "ipython3",
   "version": "3.7.7"
  }
 },
 "nbformat": 4,
 "nbformat_minor": 4
}
