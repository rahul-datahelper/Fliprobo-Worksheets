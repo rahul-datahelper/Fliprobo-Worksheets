{
 "cells": [
  {
   "cell_type": "markdown",
   "metadata": {},
   "source": [
    "# Write a python program to solve a quadratic equation of the form 𝑎𝑥2+𝑏𝑥+𝑐=0. Where a, b and c are to be taken by user input. Handle the erroneous input, such as ‘a’ should not be equal to 0."
   ]
  },
  {
   "cell_type": "code",
   "execution_count": 28,
   "metadata": {},
   "outputs": [
    {
     "name": "stdout",
     "output_type": "stream",
     "text": [
      "Enter a Number - A : 3\n",
      "Enter a Number - B : 15\n",
      "Enter a Number - C : 3\n",
      "Answer is (-4.79128784747792+0j) and (-0.20871215252207995+0j)\n"
     ]
    }
   ],
   "source": [
    "import cmath\n",
    "try:\n",
    "    a = int(input(\"Enter a Number - A : \"))\n",
    "    b = int(input(\"Enter a Number - B : \"))\n",
    "    c = int(input(\"Enter a Number - C : \"))\n",
    "\n",
    "    if a != 0:\n",
    "        d = (b**2) - (4*a*c) #discriminant\n",
    "        if d > 0:\n",
    "            ans1 = (-b-cmath.sqrt(d) ) / (2*a)\n",
    "            ans2 = (-b+cmath.sqrt(d) ) / (2*a)\n",
    "            print(f\"Answer is {ans1} and {ans2}\")\n",
    "        elif d == 0:\n",
    "            ans = (-b+cmath.sqrt(d) ) / (2*a)\n",
    "            print (\"This equation has one solutions: \",ans)\n",
    "        else: \n",
    "            print (\"This equation has no real solution\")\n",
    "    else:\n",
    "        print(\"Values of A is equal to 0\")\n",
    "except:\n",
    "    print(\"Invalid Number. Please Try Again !\")"
   ]
  },
  {
   "cell_type": "markdown",
   "metadata": {},
   "source": [
    "# Write a python program to find the sum of first ‘n’ natural numbers without using any loop. Ask user to input the value of ‘n’."
   ]
  },
  {
   "cell_type": "code",
   "execution_count": 36,
   "metadata": {},
   "outputs": [
    {
     "name": "stdout",
     "output_type": "stream",
     "text": [
      "Enter the count of natural numbers\n",
      "50\n",
      "1275\n"
     ]
    }
   ],
   "source": [
    "def recur_sum(n):\n",
    "    if n <= 1:\n",
    "        return n\n",
    "    else:\n",
    "        return n + recur_sum(n-1)  # Recrusive Function\n",
    "\n",
    "num = int(input(\"Enter the count of natural numbers\\n\"))\n",
    "\n",
    "if num < 0:\n",
    "    print(\"Enter a positive number\")\n",
    "else:\n",
    "    print(recur_sum(num))  # Function Call"
   ]
  }
 ],
 "metadata": {
  "kernelspec": {
   "display_name": "Python 3",
   "language": "python",
   "name": "python3"
  },
  "language_info": {
   "codemirror_mode": {
    "name": "ipython",
    "version": 3
   },
   "file_extension": ".py",
   "mimetype": "text/x-python",
   "name": "python",
   "nbconvert_exporter": "python",
   "pygments_lexer": "ipython3",
   "version": "3.7.7"
  }
 },
 "nbformat": 4,
 "nbformat_minor": 4
}
